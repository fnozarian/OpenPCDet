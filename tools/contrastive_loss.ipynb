{
 "cells": [
  {
   "cell_type": "code",
   "execution_count": null,
   "metadata": {},
   "outputs": [],
   "source": [
    "import pickle\n",
    "\n",
    "# Specify the path to your pickle file\n",
    "file_path = '/content/drive/MyDrive/scores.pkl'\n",
    "\n",
    "# Open the file in binary mode and read the content\n",
    "with open(file_path, 'rb') as file:\n",
    "    data = pickle.load(file)\n",
    "\n",
    "#data.keys()\n",
    "#data['positive_pairs_duped']"
   ]
  },
  {
   "cell_type": "code",
   "execution_count": null,
   "metadata": {},
   "outputs": [],
   "source": [
    "import matplotlib.pyplot as plt\n",
    "\n",
    "# Assuming pos_pairs_car, pos_pairs_ped, and pos_pairs_cyc are already defined\n",
    "# If not, replace them with the correct data\n",
    "\n",
    "# Plot histograms for each distribution\n",
    "plt.hist(data['pos_pairs_car'], alpha=0.7, label='Car')\n",
    "plt.hist(data['pos_pairs_ped'], alpha=0.5, label='Pedestrian')\n",
    "plt.hist(data['pos_pairs_cyc'], alpha=0.9, label='Cyclist')\n",
    "\n",
    "# Add labels and legend\n",
    "plt.xlabel('Values')\n",
    "plt.ylabel('Frequency')\n",
    "plt.legend()\n",
    "\n",
    "# Show the plot\n",
    "plt.show()"
   ]
  },
  {
   "cell_type": "code",
   "execution_count": null,
   "metadata": {},
   "outputs": [],
   "source": [
    "plt.hist(data['neg_pairs_car'], alpha=0.7, label='Car')\n",
    "plt.hist(data['neg_pairs_ped'], alpha=0.5, label='Pedestrian')\n",
    "plt.hist(data['neg_pairs_cyc'], alpha=0.9, label='Cyclist')\n",
    "\n",
    "# Add labels and legend\n",
    "plt.xlabel('Values')\n",
    "plt.ylabel('Frequency')\n",
    "plt.legend()\n",
    "\n",
    "# Show the plot\n",
    "plt.show()"
   ]
  }
 ],
 "metadata": {
  "language_info": {
   "name": "python"
  }
 },
 "nbformat": 4,
 "nbformat_minor": 2
}
